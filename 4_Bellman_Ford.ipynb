{
 "cells": [
  {
   "cell_type": "markdown",
   "metadata": {},
   "source": [
    "# Bellman-Ford Algorithm\n",
    "\n",
    "**It can find the shortest path from one node to any other node**\n",
    "\n",
    "* it can be used to detect **negative cycles** and determine **when they occur**\n",
    "* E the number of edges\n",
    "* V the number of vertices\n",
    "* S the id of the node to start\n",
    "* D an array of size V that tracks the best distance from s to each node\n",
    "\n",
    "https://www.geeksforgeeks.org/bellman-ford-algorithm-dp-23/"
   ]
  },
  {
   "cell_type": "markdown",
   "metadata": {},
   "source": [
    "steps:\n",
    "\n",
    "1. set every entry of D as +inf\n",
    "2. set D[s] = 0\n",
    "3. relax each edge  V-1 times:\n",
    "    \n",
    "    i = 0\n",
    "    while i < V-1:\n",
    "    \n",
    "        for edge in graph.edge:\n",
    "        \n",
    "            if D[edge.from] + edge.cost < D[edge.to]:\n",
    "\n",
    "                D[edge.to] = D[edge.from] + edge.cost\n",
    "        i += 1\n",
    "        \n",
    "4. repeat to find the negative cycles:\n",
    "    i = 0\n",
    "        while i < V-1:\n",
    "\n",
    "            for edge in graph.edge:\n",
    "\n",
    "                if D[edge.from] + edge.cost < D[edge.to]:\n",
    "\n",
    "                    D[edge.to] = -inf\n",
    "            i += 1"
   ]
  },
  {
   "cell_type": "markdown",
   "metadata": {},
   "source": [
    "* Both, the vertices in negative cycle and the reachable by the negative cycle will be set as - inf"
   ]
  },
  {
   "cell_type": "code",
   "execution_count": 26,
   "metadata": {},
   "outputs": [],
   "source": [
    "import math\n",
    "from collections import defaultdict\n",
    "from queue import PriorityQueue\n",
    "\n",
    "\n",
    "class Edge():\n",
    "    \n",
    "    def __init__(self, frm_node, to_node, cost_int):\n",
    "        \n",
    "        self.properties = [frm_node, to_node, cost_int]\n",
    "    \n",
    "\n",
    "class Graph():\n",
    "    \n",
    "    def __init__ (self, number):\n",
    "        \n",
    "        self.edge_list = []\n",
    "        self.num_edges = number\n",
    "    \n",
    "    def add_edge(self, frm_node, to_node, cost_int):\n",
    "\n",
    "        new_edge = Edge(frm_node, to_node, cost_int)\n",
    "        self.edge_list.append(new_edge.properties)\n",
    "\n",
    "        return new_edge\n",
    "\n",
    "\n",
    "\n",
    "def Bellman_Ford(graph,node_start_id):\n",
    "    \n",
    "    #Ya que no se conoce el costo de llegar a los nodos, se crea un array del tamaño de los nodos\n",
    "    #con valores de infinito positivo, y se van cambiando con la distancia mas corta hasta cada uno\n",
    "    #siendo el indice el numero del nodo\n",
    "    \n",
    "    distance = [math.inf] * graph.num_edges\n",
    "    print(distance)\n",
    "    print(node_start_id)\n",
    "    distance[node_start_id] = 0\n",
    "    \n",
    "    #El primer ciclo es con el fin de encontrar el camino mas corto a cada nodo\n",
    "    for i in range(graph.num_edges):\n",
    "        \n",
    "        for frm, to, weig in graph.edge_list:\n",
    "            \n",
    "            if distance[to] > distance[frm] + weig:\n",
    "                \n",
    "                distance[to] = distance[frm] + weig\n",
    "                \n",
    "    #El segundo ciclo aunque se ve igual, es con el fin de detectar ciclos negativos e\n",
    "    #identificarlos en el array con un -inf\n",
    "    for i in range(graph.num_edges):\n",
    "        \n",
    "        for frm, to, weig in graph.edge_list:\n",
    "            \n",
    "            if distance[to] > distance[frm] + weig:\n",
    "                \n",
    "                distance[to] = -math.inf\n",
    "    \n",
    "    return distance"
   ]
  },
  {
   "cell_type": "code",
   "execution_count": null,
   "metadata": {},
   "outputs": [],
   "source": []
  },
  {
   "cell_type": "code",
   "execution_count": 29,
   "metadata": {},
   "outputs": [
    {
     "name": "stdout",
     "output_type": "stream",
     "text": [
      "[inf, inf, inf, inf, inf, inf, inf, inf, inf, inf]\n",
      "0\n",
      "[0, 5, -inf, -inf, -inf, 35, 40, -10, -20, -inf]\n"
     ]
    }
   ],
   "source": [
    "g = Graph(10)\n",
    "\n",
    "g.add_edge(0, 1, 5)  \n",
    "g.add_edge(1, 2, 20)  \n",
    "g.add_edge(1, 5, 30)  \n",
    "g.add_edge(1, 6, 60)  \n",
    "g.add_edge(2, 3, 10)  \n",
    "g.add_edge(2, 4, 75)  \n",
    "g.add_edge(3, 2, -15) \n",
    "g.add_edge(4, 9, 100)\n",
    "g.add_edge(5, 6, 5)\n",
    "g.add_edge(5, 8, 50)\n",
    "g.add_edge(5, 4, 25)\n",
    "g.add_edge(6, 7, -50)\n",
    "g.add_edge(7, 8, -10)\n",
    "\n",
    "print(Bellman_Ford(g, 0))"
   ]
  },
  {
   "cell_type": "code",
   "execution_count": null,
   "metadata": {},
   "outputs": [],
   "source": []
  },
  {
   "cell_type": "code",
   "execution_count": null,
   "metadata": {},
   "outputs": [],
   "source": []
  }
 ],
 "metadata": {
  "kernelspec": {
   "display_name": "Python 3",
   "language": "python",
   "name": "python3"
  },
  "language_info": {
   "codemirror_mode": {
    "name": "ipython",
    "version": 3
   },
   "file_extension": ".py",
   "mimetype": "text/x-python",
   "name": "python",
   "nbconvert_exporter": "python",
   "pygments_lexer": "ipython3",
   "version": "3.8.5"
  }
 },
 "nbformat": 4,
 "nbformat_minor": 4
}
