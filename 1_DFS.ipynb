{
 "cells": [
  {
   "cell_type": "markdown",
   "metadata": {},
   "source": [
    "# Depth First Search Algorithm"
   ]
  },
  {
   "cell_type": "markdown",
   "metadata": {},
   "source": [
    "**Goes depth in to some node before even ask to another children**\n",
    "\n",
    "Is an algorithm for traversing or searching tree or graph data structures. The algorithm starts at the root node (selecting some arbitrary node as the root node in the case of a graph) and explores as far as possible along each branch before backtracking.\n",
    "\n",
    "* Recursively explore graph, backtraking as necessary\n",
    "* Carefully not to revisit vertices"
   ]
  },
  {
   "cell_type": "code",
   "execution_count": 9,
   "metadata": {},
   "outputs": [
    {
     "ename": "IndentationError",
     "evalue": "expected an indented block (<ipython-input-9-c63a4cd246e2>, line 13)",
     "output_type": "error",
     "traceback": [
      "\u001b[1;36m  File \u001b[1;32m\"<ipython-input-9-c63a4cd246e2>\"\u001b[1;36m, line \u001b[1;32m13\u001b[0m\n\u001b[1;33m    parent [s] = None\u001b[0m\n\u001b[1;37m    ^\u001b[0m\n\u001b[1;31mIndentationError\u001b[0m\u001b[1;31m:\u001b[0m expected an indented block\n"
     ]
    }
   ],
   "source": [
    "#This algorithm need an input of list of vertices as V and a list that contains the adjacents edges for each vertice\n",
    "parent ={s:None}\n",
    "\n",
    "def DFS_visit(Adj_list,s):\n",
    "    for v in Adj_list[s]:\n",
    "        if v not in parent:\n",
    "            parent[v] = s\n",
    "            DFS_visit(Adj_list,v)\n",
    "            \n",
    "def DFS(V,Adj_list):\n",
    "    parent = {}\n",
    "    for s in V:\n",
    "        if s not in parent:\n",
    "        parent [s] = None\n",
    "        DFS_visit(Adj_list, s)"
   ]
  },
  {
   "attachments": {
    "image-2.png": {
     "image/png": "[encoded data removed]"
    }
   },
   "cell_type": "markdown",
   "metadata": {},
   "source": [
    "# Graph for next code\n",
    "\n",
    "**This graph is the representation of the code below**\n",
    "\n",
    "![image-2.png](attachment:image-2.png)"
   ]
  },
  {
   "cell_type": "markdown",
   "metadata": {},
   "source": [
    "* **defaultdict** = is the same dictionary of python with the difference that this dictionary doesnt return 'Key value error' instead of that, it return a defult value, in this case an empty list\n",
    "* A set is a collection which is both unordered and unindexed."
   ]
  },
  {
   "cell_type": "code",
   "execution_count": 13,
   "metadata": {},
   "outputs": [
    {
     "name": "stdout",
     "output_type": "stream",
     "text": [
      "Following is DFS from (starting from vertex 2)\n",
      "defaultdict(<class 'list'>, {0: [1, 6], 1: [2, 3], 2: [4, 5]})\n",
      "0 --------\n",
      "[1, 6]\n",
      "neighbor 1\n",
      "1 --------\n",
      "[2, 3]\n",
      "neighbor 2\n",
      "2 --------\n",
      "[4, 5]\n",
      "neighbor 4\n",
      "4 --------\n",
      "[]\n",
      "4 No neighbors\n",
      "neighbor 5\n",
      "5 --------\n",
      "[]\n",
      "5 No neighbors\n",
      "neighbor 3\n",
      "3 --------\n",
      "[]\n",
      "3 No neighbors\n",
      "neighbor 6\n",
      "6 --------\n",
      "[]\n",
      "6 No neighbors\n"
     ]
    }
   ],
   "source": [
    "# Python3 program to print DFS traversal\n",
    "# from a given given graph\n",
    "from collections import defaultdict\n",
    " \n",
    "# This class represents a directed graph using\n",
    "# adjacency list representation\n",
    " \n",
    " \n",
    "class Graph:\n",
    " \n",
    "    # Constructor\n",
    "    def __init__(self):\n",
    " \n",
    "        # default dictionary to store graph\n",
    "        self.graph = defaultdict(list)\n",
    " \n",
    "    # function to add an edge to graph\n",
    "    def addEdge(self, u, v):\n",
    "        self.graph[u].append(v)\n",
    " \n",
    "    # A function used by DFS\n",
    "    def DFSUtil(self, v, visited):\n",
    "\n",
    "        # Mark the current node as visited\n",
    "        # and print it\n",
    "        visited.add(v)\n",
    "        print(v, end=' ')\n",
    "        # Recur for all the vertices\n",
    "        # adjacent to this vertex\n",
    "        \n",
    "        for neighbour in self.graph[v]:\n",
    "            #if the node dont have neighbors, it return ultil the node that have another neighbor\n",
    "            print('neighbor', neighbour)\n",
    "            if neighbour not in visited:\n",
    "                \n",
    "                self.DFSUtil(neighbour, visited)\n",
    " \n",
    "    # The function to do DFS traversal. It uses\n",
    "    # recursive DFSUtil()\n",
    "    def DFS(self, v):\n",
    "        print(self.graph)\n",
    "        # Create a set to store visited vertices\n",
    "        visited = set()\n",
    " \n",
    "        # Call the recursive helper function\n",
    "        # to print DFS traversal\n",
    "        self.DFSUtil(v, visited)\n",
    " \n",
    "# Driver code\n",
    " \n",
    " \n",
    "# Create a graph given\n",
    "# in the above diagram\n",
    "g = Graph()\n",
    "g.addEdge(0, 1)\n",
    "g.addEdge(0, 6)\n",
    "g.addEdge(1, 2)\n",
    "g.addEdge(1, 3)\n",
    "g.addEdge(2, 4)\n",
    "g.addEdge(2, 5)\n",
    "\n",
    " \n",
    "print(\"Following is DFS from (starting from vertex 2)\")\n",
    "g.DFS(0)\n",
    " \n",
    "# This code is contributed by Neelam Yadav"
   ]
  },
  {
   "cell_type": "code",
   "execution_count": null,
   "metadata": {},
   "outputs": [],
   "source": []
  },
  {
   "cell_type": "code",
   "execution_count": null,
   "metadata": {},
   "outputs": [],
   "source": []
  }
 ],
 "metadata": {
  "kernelspec": {
   "display_name": "Python 3",
   "language": "python",
   "name": "python3"
  },
  "language_info": {
   "codemirror_mode": {
    "name": "ipython",
    "version": 3
   },
   "file_extension": ".py",
   "mimetype": "text/x-python",
   "name": "python",
   "nbconvert_exporter": "python",
   "pygments_lexer": "ipython3",
   "version": "3.8.5"
  }
 },
 "nbformat": 4,
 "nbformat_minor": 4
}
