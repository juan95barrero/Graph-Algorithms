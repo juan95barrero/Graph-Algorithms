{
 "cells": [
  {
   "cell_type": "markdown",
   "metadata": {},
   "source": [
    "# Breadth First Search\n",
    "\n",
    "**This algorithm is particularly useful for one thing: Finding the shortest path on unweighted graphs**\n",
    "\n",
    "Starts at some arbitrary node of a graph and explore the neighbour nodes first, before moving to the next level\n",
    "\n",
    "* Due to you visit all the levels of the graph, if you take a node V and do parent[V], parent[parent[V]],....., None, you will find the shortest path to s -> v"
   ]
  },
  {
   "cell_type": "code",
   "execution_count": null,
   "metadata": {},
   "outputs": [],
   "source": [
    "def BFS (Adj_list,s):\n",
    "    \n",
    "    #The dictionary level assign a number, according to the i iteration that it lies.\n",
    "\n",
    "    level = {s:0}\n",
    "    #The first node S, doesnt have a parent, due to that, in parent dictionary s:None,\n",
    "    # but for the other nodes, the for loop assign the parent doing parent[v] = u, taking in account\n",
    "    # that we are iterate trought adjacent list for u and visiting all the vertex neihgbours\n",
    "    parent = {s:None}\n",
    "    frontier = [s]\n",
    "    i = 1\n",
    "    while frontier:\n",
    "        next_list = []\n",
    "        \n",
    "        for u in frontier:\n",
    "            for v in Adj_list[u]:\n",
    "                if v not in level:\n",
    "                    level[v] = i\n",
    "                    parent[v] = u\n",
    "                    next_list.append(v)\n",
    "        frontier = next_list\n",
    "        i +=1\n",
    "        "
   ]
  },
  {
   "cell_type": "code",
   "execution_count": 6,
   "metadata": {},
   "outputs": [
    {
     "name": "stdout",
     "output_type": "stream",
     "text": [
      "Following is Breadth First Traversal (starting from vertex 2)\n",
      "defaultdict(<class 'list'>, {0: [1, 2], 1: [2], 2: [0, 3], 3: [3]})\n",
      "3\n",
      "4\n",
      "[False, False, False, False]\n",
      "2 0 3 1 "
     ]
    }
   ],
   "source": [
    "# Python3 Program to print BFS traversal\n",
    "# from a given source vertex. BFS(int s)\n",
    "# traverses vertices reachable from s.\n",
    "from collections import defaultdict\n",
    " \n",
    "# This class represents a directed graph\n",
    "# using adjacency list representation\n",
    "class Graph:\n",
    " \n",
    "    # Constructor\n",
    "    def __init__(self):\n",
    " \n",
    "        # default dictionary to store graph\n",
    "        self.graph = defaultdict(list)\n",
    " \n",
    "    # function to add an edge to graph\n",
    "    def addEdge(self,u,v):\n",
    "        self.graph[u].append(v)\n",
    " \n",
    "    # Function to print a BFS of graph\n",
    "    def BFS(self, s):\n",
    " \n",
    "        # Mark all the vertices as not visited\n",
    "        # The function max return the maximum value of the keys from the dictionary\n",
    "        # defaultdict(<class 'list'>, {0: [1, 2], 1: [2], 2: [0, 3], 3: [3]})\n",
    "        # in this case, it returns 3, plus 1 and create a list of [False] values to track what nodes are visited\n",
    "        \n",
    "        visited = [False] * (max(self.graph) + 1)\n",
    " \n",
    "        # Create a queue for BFS\n",
    "        queue = []\n",
    " \n",
    "        # Mark the source node as \n",
    "        # visited and enqueue it\n",
    "        queue.append(s)\n",
    "        visited[s] = True\n",
    " \n",
    "        while queue:\n",
    " \n",
    "            # Dequeue a vertex from \n",
    "            # queue and print it\n",
    "            s = queue.pop(0)\n",
    "            print (s, end = \" \")\n",
    " \n",
    "            # Get all adjacent vertices of the\n",
    "            # dequeued vertex s. If a adjacent\n",
    "            # has not been visited, then mark it\n",
    "            # visited and enqueue it\n",
    "            for i in self.graph[s]:\n",
    "                if visited[i] == False:\n",
    "                    queue.append(i)\n",
    "                    visited[i] = True\n",
    " \n",
    "# Driver code\n",
    " \n",
    "# Create a graph given in\n",
    "# the above diagram\n",
    "g = Graph()\n",
    "g.addEdge(0, 1)\n",
    "g.addEdge(0, 2)\n",
    "g.addEdge(1, 2)\n",
    "g.addEdge(2, 0)\n",
    "g.addEdge(2, 3)\n",
    "g.addEdge(3, 3)\n",
    " \n",
    "print (\"Following is Breadth First Traversal\"\n",
    "                  \" (starting from vertex 2)\")\n",
    "g.BFS(2)\n",
    " "
   ]
  },
  {
   "cell_type": "code",
   "execution_count": null,
   "metadata": {},
   "outputs": [],
   "source": []
  }
 ],
 "metadata": {
  "kernelspec": {
   "display_name": "Python 3",
   "language": "python",
   "name": "python3"
  },
  "language_info": {
   "codemirror_mode": {
    "name": "ipython",
    "version": 3
   },
   "file_extension": ".py",
   "mimetype": "text/x-python",
   "name": "python",
   "nbconvert_exporter": "python",
   "pygments_lexer": "ipython3",
   "version": "3.8.5"
  }
 },
 "nbformat": 4,
 "nbformat_minor": 4
}
